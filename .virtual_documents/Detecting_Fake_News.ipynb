


import numpy as np
import pandas as pd
from sklearn.model_selection import train_test_split
from sklearn.feature_extraction.text import TfidfVectorizer
from sklearn.linear_model import PassiveAggressiveClassifier
from sklearn.metrics import accuracy_score, confusion_matrix
from sklearn.svm import LinearSVC





data = pd.read_csv("fake_or_real_news.csv")





data





data['fake'] = data['label'].apply(lambda x: 0 if x == "REAL" else 1)


data





data = data.drop("label", axis =1)


data





x, y = data['text'], data['fake']


x


y





x_train, x_test, y_train, y_test = train_test_split(x,y, test_size = 0.2)      #0.2 is for 20% of the data taken for evaluation and remaining 80% will be taken for testing


x_train



x_test


y_train


y_test





vectorizer =TfidfVectorizer(stop_words = "english", max_df = 0.7)
x_train_vectorized = vectorizer.fit_transform(x_train)
x_test_vectorized = vectorizer.transform(x_test)





clf = LinearSVC()
clf.fit(x_train_vectorized, y_train)


clf.score(x_test_vectorized, y_test)





pac_classifier = PassiveAggressiveClassifier(max_iter=50)
pac_classifier.fit(x_train_vectorized, y_train)


y_train_pred = pac_classifier.predict(x_train_vectorized)

# Calculate accuracy on the training data
train_accuracy = accuracy_score(y_train, y_train_pred)
print("Training Accuracy:", train_accuracy)


y_test_pred = pac_classifier.predict(x_test_vectorized)

# Calculate accuracy on the test data
test_accuracy = accuracy_score(y_test, y_test_pred)
print("Test Accuracy:", test_accuracy)



